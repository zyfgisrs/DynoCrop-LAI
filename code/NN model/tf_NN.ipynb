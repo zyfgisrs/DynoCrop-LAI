{
 "cells": [
  {
   "cell_type": "code",
   "execution_count": 1,
   "metadata": {},
   "outputs": [],
   "source": [
    "import tensorflow as tf\n",
    "from tensorflow import keras\n",
    "from tensorflow.keras import utils, losses, layers, Sequential, callbacks\n",
    "import pandas as pd\n",
    "import numpy as np\n",
    "from sklearn.model_selection import train_test_split\n",
    "from sklearn.metrics import r2_score, mean_absolute_error, mean_squared_error\n",
    "import matplotlib.pyplot as plt\n",
    "import seaborn as sns"
   ]
  },
  {
   "cell_type": "markdown",
   "metadata": {},
   "source": [
    "Train NN model of DF-SP"
   ]
  },
  {
   "cell_type": "code",
   "execution_count": 2,
   "metadata": {},
   "outputs": [],
   "source": [
    "path_train_df = r'SP_result_hh.csv'"
   ]
  },
  {
   "cell_type": "code",
   "execution_count": 4,
   "metadata": {},
   "outputs": [],
   "source": [
    "def std_(x):\n",
    "  return np.std(x)\n",
    "\n",
    "def mean_(x):\n",
    "  return np.mean(x)\n",
    "\n",
    "\n",
    "def norm(x):\n",
    "  return (x - np.mean(x)) / np.std(x)"
   ]
  },
  {
   "cell_type": "code",
   "execution_count": null,
   "metadata": {},
   "outputs": [],
   "source": [
    "df = pd.read_csv(path_train_df)\n",
    "bands = ['B3','B4','B5','B6','B7','B8','B8A','B11','B12','SZA','DOY','stage']\n",
    "yOverall = df['lai']\n",
    "xOverall = norm(df[bands])"
   ]
  },
  {
   "cell_type": "code",
   "execution_count": null,
   "metadata": {},
   "outputs": [],
   "source": [
    "mean_st = mean_(df[bands])\n",
    "std_st = std_(df[bands])"
   ]
  },
  {
   "cell_type": "code",
   "execution_count": 8,
   "metadata": {},
   "outputs": [],
   "source": [
    "X_train, X_test, y_train, y_test = train_test_split(xOverall, yOverall, test_size=0.2, random_state=42)"
   ]
  },
  {
   "cell_type": "code",
   "execution_count": 9,
   "metadata": {},
   "outputs": [],
   "source": [
    "EPOCHS = 200\n",
    "BATCH_SIZE = 128\n",
    "\n",
    "model = Sequential([\n",
    "\n",
    "    layers.Dense(\n",
    "        units = 4,\n",
    "        activation = 'relu',\n",
    "        input_shape = [len_bands]\n",
    "    ),\n",
    "\n",
    "    layers.Dense(1)\n",
    "])"
   ]
  },
  {
   "cell_type": "code",
   "execution_count": 10,
   "metadata": {},
   "outputs": [],
   "source": [
    "model.compile(\n",
    "    optimizer = 'adam',\n",
    "    loss = 'mae',\n",
    "    metrics = ['mae']\n",
    ")"
   ]
  },
  {
   "cell_type": "code",
   "execution_count": 11,
   "metadata": {},
   "outputs": [],
   "source": [
    "early_stop = callbacks.EarlyStopping(monitor='val_mae', min_delta=0.05, patience=3)"
   ]
  },
  {
   "cell_type": "code",
   "execution_count": 12,
   "metadata": {},
   "outputs": [
    {
     "name": "stdout",
     "output_type": "stream",
     "text": [
      "Epoch 1/200\n",
      "161/161 [==============================] - 2s 3ms/step - loss: 2.4838 - mae: 2.4838 - val_loss: 2.0760 - val_mae: 2.0760\n",
      "Epoch 2/200\n",
      "161/161 [==============================] - 0s 2ms/step - loss: 1.7898 - mae: 1.7898 - val_loss: 1.5791 - val_mae: 1.5791\n",
      "Epoch 3/200\n",
      "161/161 [==============================] - 0s 2ms/step - loss: 1.3920 - mae: 1.3920 - val_loss: 1.2524 - val_mae: 1.2524\n",
      "Epoch 4/200\n",
      "161/161 [==============================] - 0s 2ms/step - loss: 1.1609 - mae: 1.1609 - val_loss: 1.1020 - val_mae: 1.1020\n",
      "Epoch 5/200\n",
      "161/161 [==============================] - 0s 2ms/step - loss: 1.0721 - mae: 1.0721 - val_loss: 1.0424 - val_mae: 1.0424\n",
      "Epoch 6/200\n",
      "161/161 [==============================] - 0s 2ms/step - loss: 1.0348 - mae: 1.0348 - val_loss: 1.0171 - val_mae: 1.0171\n",
      "Epoch 7/200\n",
      "161/161 [==============================] - 0s 2ms/step - loss: 1.0153 - mae: 1.0153 - val_loss: 1.0016 - val_mae: 1.0016\n",
      "Epoch 8/200\n",
      "161/161 [==============================] - 0s 2ms/step - loss: 1.0007 - mae: 1.0007 - val_loss: 0.9876 - val_mae: 0.9876\n",
      "Epoch 9/200\n",
      "161/161 [==============================] - 0s 2ms/step - loss: 0.9859 - mae: 0.9859 - val_loss: 0.9734 - val_mae: 0.9734\n",
      "Epoch 10/200\n",
      "161/161 [==============================] - 0s 2ms/step - loss: 0.9771 - mae: 0.9771 - val_loss: 0.9686 - val_mae: 0.9686\n",
      "Epoch 11/200\n",
      "161/161 [==============================] - 0s 2ms/step - loss: 0.9732 - mae: 0.9732 - val_loss: 0.9655 - val_mae: 0.9655\n"
     ]
    }
   ],
   "source": [
    "history = model.fit(X_train, y_train, epochs=EPOCHS, batch_size=BATCH_SIZE, \n",
    "                validation_data=(X_test, y_test), verbose=1, callbacks=[early_stop])"
   ]
  },
  {
   "cell_type": "code",
   "execution_count": 14,
   "metadata": {},
   "outputs": [
    {
     "name": "stdout",
     "output_type": "stream",
     "text": [
      "r2 = 0.4979\n",
      "rmse = 1.3878\n",
      "max =  4.572852730751038\n",
      "min =  0.09161299467086792\n"
     ]
    },
    {
     "data": {
      "image/png": "[encoded data removed]",
      "text/plain": [
       "<Figure size 432x432 with 1 Axes>"
      ]
     },
     "metadata": {
      "needs_background": "light"
     },
     "output_type": "display_data"
    }
   ],
   "source": [
    "predict = model.predict(X_test)\n",
    "predict = predict.flatten()\n",
    "r2 = r2_score(y_test, predict)\n",
    "rmse = (mean_squared_error(y_test, predict))**0.5\n",
    "print(f'r2 = {round(r2, 4)}')\n",
    "print(f'rmse = {round(rmse, 4)}')\n",
    "print('max = ', pd.Series(predict.reshape(-1)).quantile(0.99))\n",
    "print('min = ', pd.Series(predict.reshape(-1)).quantile(0.01))\n",
    "\n",
    "fig, ax = plt.subplots(figsize=(6,6))\n",
    "sns.kdeplot(x = y_test, y = predict , cmap='crest', fill=True, ax=ax)\n",
    "ax.set_xlabel('Oringinal LAI', fontsize=13)\n",
    "ax.set_ylabel('Extimated LAI', fontsize=13)\n",
    "ax.set_xlim((0,7))\n",
    "ax.set_ylim((0,7))\n",
    "ax.plot([0,7],[0,7])\n",
    "ax.set_xticks(np.arange(0, 7.01, step = 1))\n",
    "ax.set_yticks(np.arange(0, 7.01, step = 1))\n",
    "plt.show()"
   ]
  }
 ],
 "metadata": {
  "kernelspec": {
   "display_name": "tf",
   "language": "python",
   "name": "python3"
  },
  "language_info": {
   "codemirror_mode": {
    "name": "ipython",
    "version": 3
   },
   "file_extension": ".py",
   "mimetype": "text/x-python",
   "name": "python",
   "nbconvert_exporter": "python",
   "pygments_lexer": "ipython3",
   "version": "3.7.13"
  },
  "orig_nbformat": 4
 },
 "nbformat": 4,
 "nbformat_minor": 2
}
